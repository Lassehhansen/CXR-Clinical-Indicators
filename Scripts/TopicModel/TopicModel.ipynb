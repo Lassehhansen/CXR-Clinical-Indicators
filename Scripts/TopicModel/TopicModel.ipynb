{
 "cells": [
  {
   "attachments": {},
   "cell_type": "markdown",
   "metadata": {},
   "source": [
    "### Loading data "
   ]
  },
  {
   "cell_type": "code",
   "execution_count": null,
   "metadata": {},
   "outputs": [],
   "source": [
    "import pandas as pd \n",
    "hf_copd_df3.to_csv(\"hf_copd_df_topic_model.csv\")"
   ]
  },
  {
   "attachments": {},
   "cell_type": "markdown",
   "metadata": {},
   "source": [
    "### Getting Average Visits, Number of Individuals, and Documents in each disease"
   ]
  },
  {
   "cell_type": "code",
   "execution_count": 212,
   "metadata": {},
   "outputs": [
    {
     "name": "stdout",
     "output_type": "stream",
     "text": [
      "Average visits: 2.0216034171184494\n"
     ]
    }
   ],
   "source": [
    "# Calculate the average of the \"visits\" column\n",
    "average_visits = hf_copd_df3[\"visits\"].mean()\n",
    "\n",
    "# Display the average visits\n",
    "print(\"Average visits:\", average_visits)"
   ]
  },
  {
   "cell_type": "code",
   "execution_count": 213,
   "metadata": {},
   "outputs": [
    {
     "name": "stdout",
     "output_type": "stream",
     "text": [
      "fluid overload/heart failure    6173\n",
      "copd/emphysema                  6001\n",
      "Name: disease_category, dtype: int64\n"
     ]
    }
   ],
   "source": [
    "# Display the filtered rows\n",
    "print(hf_copd_df3['disease_category'].value_counts())"
   ]
  },
  {
   "cell_type": "code",
   "execution_count": 214,
   "metadata": {},
   "outputs": [
    {
     "data": {
      "text/plain": [
       "7532"
      ]
     },
     "execution_count": 214,
     "metadata": {},
     "output_type": "execute_result"
    }
   ],
   "source": [
    "# Count the number of rows for each patient_id\n",
    "#print(hf_df['patient_id'].value_counts())\n",
    "\n",
    "hf_copd_df3['patient_id'].nunique()"
   ]
  },
  {
   "attachments": {},
   "cell_type": "markdown",
   "metadata": {},
   "source": [
    "## Making Sentence embeddings"
   ]
  },
  {
   "cell_type": "code",
   "execution_count": 221,
   "metadata": {},
   "outputs": [],
   "source": [
    "from bertopic import BERTopic\n",
    "from sentence_transformers import SentenceTransformer\n",
    "\n",
    "model_sentence = SentenceTransformer('all-mpnet-base-v2')\n",
    "\n",
    "hf_copd_df3.reset_index(drop=True, inplace=True)\n",
    "\n",
    "#embeddings = model.encode(disease_df_analysis['reason_clean'], convert_to_tensor=True)\n",
    "\n",
    "sentence_embeddings = model_sentence.encode(hf_copd_df3['reason_clean'], convert_to_tensor=True)\n"
   ]
  },
  {
   "attachments": {},
   "cell_type": "markdown",
   "metadata": {},
   "source": [
    "### Saving embeddings"
   ]
  },
  {
   "cell_type": "code",
   "execution_count": 222,
   "metadata": {},
   "outputs": [],
   "source": [
    "\n",
    "#save sentence_embeddings\n",
    "sentence_embeddings_np = np.asarray(sentence_embeddings)\n",
    "\n",
    "# save radbert_embeddings2 as a file on my computer\n",
    "np.save('sentence_embeddings.npy', sentence_embeddings_np)\n"
   ]
  },
  {
   "attachments": {},
   "cell_type": "markdown",
   "metadata": {},
   "source": [
    "### Loading them for use"
   ]
  },
  {
   "cell_type": "code",
   "execution_count": 220,
   "metadata": {},
   "outputs": [],
   "source": [
    "#load radbert_embeddings2\n",
    "sentence_embeddings_np = np.load('sentence_embeddings.npy')"
   ]
  },
  {
   "attachments": {},
   "cell_type": "markdown",
   "metadata": {},
   "source": [
    "## Topic Model"
   ]
  },
  {
   "cell_type": "code",
   "execution_count": 415,
   "metadata": {},
   "outputs": [],
   "source": [
    "import numpy as np\n",
    "from bertopic import BERTopic\n",
    "from scipy.sparse import csr_matrix\n",
    "from umap import UMAP\n",
    "np.random.seed(1997)\n",
    "\n",
    "umap_model = UMAP(random_state=1997)\n",
    "\n",
    "topic_model = BERTopic(nr_topics=20, \n",
    "                       min_topic_size=25,\n",
    "                       calculate_probabilities=True,\n",
    "                       umap_model=umap_model)\n",
    "\n",
    "topics, probs = topic_model.fit_transform(hf_copd_df3['reason_clean'].astype(str), sentence_embeddings_np)\n"
   ]
  },
  {
   "attachments": {},
   "cell_type": "markdown",
   "metadata": {},
   "source": [
    "#### Reducing Outliers & Updating model with reduced outliers"
   ]
  },
  {
   "cell_type": "code",
   "execution_count": 416,
   "metadata": {},
   "outputs": [],
   "source": [
    "new_topics = topic_model.reduce_outliers(hf_copd_df3['reason_clean'].astype(str), topics, probabilities=probs, strategy=\"probabilities\")"
   ]
  },
  {
   "cell_type": "code",
   "execution_count": 417,
   "metadata": {},
   "outputs": [],
   "source": [
    "topic_model.update_topics(hf_copd_df3['reason_clean'].astype(str), topics=new_topics)\n"
   ]
  },
  {
   "attachments": {},
   "cell_type": "markdown",
   "metadata": {},
   "source": [
    "### Mapping level 2 names to a new dataframe"
   ]
  },
  {
   "attachments": {},
   "cell_type": "markdown",
   "metadata": {},
   "source": [
    "#### First we need to see the words accoiated with each topic"
   ]
  },
  {
   "cell_type": "code",
   "execution_count": null,
   "metadata": {},
   "outputs": [],
   "source": [
    "topic_model_names = topic_model.get_topic_info()"
   ]
  },
  {
   "attachments": {},
   "cell_type": "markdown",
   "metadata": {},
   "source": [
    "#### Then we can map it"
   ]
  },
  {
   "cell_type": "code",
   "execution_count": 449,
   "metadata": {},
   "outputs": [],
   "source": [
    "name_mapping = {\n",
    "    '0_pneumonia_of_cough_breath': 'Pneumonia & Respiratory Symptoms',\n",
    "    '1_interval_change_pneumothorax_sp': 'Interval Change',\n",
    "    '2_pna_edema_with_pulmonary': 'Pulmonary Edema',\n",
    "    '3_pain_chest_with_abdominal': 'Chest & Abdominal Pain',\n",
    "    '4_placement_tube_et_ett': 'Tube Placement',\n",
    "    '5_pleural_effusion_effusions_for': 'Pleural Effusion',\n",
    "    '6_dyspnea_exertion_acute_on': 'Acute Dyspnea',\n",
    "    '7_stroke_hemorrhage_seizure_subarachnoid': 'Stroke, Hemorrhage, Seizure',\n",
    "    '8_mental_altered_status_delirium': 'Altered Mental Status',\n",
    "    '9_hypoxia_oxygen_process_and': 'Hypoxia and Oxygen Requirements',\n",
    "    '10_pancreatitis_pancreatic_cancer_volume': 'Pancreatitis & Pancreatic Cancer',\n",
    "    '11_picc_line_placement_ij': 'PICC Line Placement',\n",
    "    '12_atrial_fibrillation_palpitations_syncope': 'Atrial Fibrillation',\n",
    "    '13_lead_pacemaker_leads_pp': 'Pacemaker Lead Placement',\n",
    "    '14_ever_pneumonia_for_and': 'Fever',\n",
    "    '15_esophageal_esophagectomy_interval_sp': 'Esophageal Cancer',\n",
    "    '16_weakness_confusion_generalized_with': 'Weakness & Confusion',\n",
    "    '17_infiltrate_eval_wrising_as': 'Infiltrate Evaluation',\n",
    "    '18_dizziness_lightheadedness_weakness_headache': 'Dizziness Assessment'\n",
    "}\n",
    "\n",
    "# Map the level 3 names onto the DataFrame\n",
    "topic_model_names['level3_names'] = topic_model_names['Name'].map(name_mapping)\n"
   ]
  },
  {
   "attachments": {},
   "cell_type": "markdown",
   "metadata": {},
   "source": [
    "## Making a hierarchical topic model & accompanying dataframe"
   ]
  },
  {
   "cell_type": "code",
   "execution_count": 450,
   "metadata": {},
   "outputs": [],
   "source": [
    "# Rename the columns\n",
    "topic_model_names2 = topic_model_names.rename(columns={'Topic': 'level3'})\n",
    "\n",
    "# Select only the 'level_3' and 'topic_name' columns\n",
    "topic_model_names3 = topic_model_names2[['level3', 'level3_names']]"
   ]
  },
  {
   "attachments": {},
   "cell_type": "markdown",
   "metadata": {},
   "source": [
    "### Using ward linkage function"
   ]
  },
  {
   "cell_type": "code",
   "execution_count": 421,
   "metadata": {},
   "outputs": [
    {
     "name": "stderr",
     "output_type": "stream",
     "text": [
      "100%|██████████| 17/17 [00:00<00:00, 100.45it/s]\n"
     ]
    }
   ],
   "source": [
    "from scipy.cluster import hierarchy as sch\n",
    "\n",
    "linkage_function = lambda x: sch.linkage(x, 'single', optimal_ordering=True)\n",
    "hierarchical_topics = topic_model.hierarchical_topics(hf_copd_df3['reason_clean'].astype(str), linkage_function=linkage_function)"
   ]
  },
  {
   "attachments": {},
   "cell_type": "markdown",
   "metadata": {},
   "source": [
    "### Visualizing the hierarchical structure"
   ]
  },
  {
   "cell_type": "code",
   "execution_count": 422,
   "metadata": {},
   "outputs": [
    {
     "data": {
      "application/vnd.plotly.v1+json": {
       "config": {
        "plotlyServerURL": "https://plot.ly"
       },
       "data": [
        {
         "hoverinfo": "text",
         "marker": {
          "color": "rgb(0,116,217)"
         },
         "mode": "lines",
         "text": [
          "pain_chest_with_abdominal_process",
          "",
          "",
          "atrial_fibrillation_palpitations_syncope_heart"
         ],
         "type": "scatter",
         "x": [
          0,
          1.1115214318739155,
          1.1115214318739155,
          0
         ],
         "xaxis": "x",
         "y": [
          -15,
          -15,
          -25,
          -25
         ],
         "yaxis": "y"
        },
        {
         "hoverinfo": "text",
         "marker": {
          "color": "rgb(0,116,217)"
         },
         "mode": "lines",
         "text": [
          "infiltrate_eval_wrising_as_with",
          "",
          "",
          "atrial_fibrillation_palpitations_syncope_heart"
         ],
         "type": "scatter",
         "x": [
          1.1115214318739155,
          1.2797719916638923,
          1.2797719916638923,
          0
         ],
         "xaxis": "x",
         "y": [
          -20,
          -20,
          -35,
          -35
         ],
         "yaxis": "y"
        },
        {
         "hoverinfo": "text",
         "marker": {
          "color": "rgb(0,116,217)"
         },
         "mode": "lines",
         "text": [
          "dyspnea_exertion_acute_on_fluid",
          "",
          "",
          "hypoxia_oxygen_process_and_acute"
         ],
         "type": "scatter",
         "x": [
          0,
          1.3448257348567627,
          1.3448257348567627,
          1.2797719916638923
         ],
         "xaxis": "x",
         "y": [
          -5,
          -5,
          -27.5,
          -27.5
         ],
         "yaxis": "y"
        },
        {
         "hoverinfo": "text",
         "marker": {
          "color": "rgb(61,153,112)"
         },
         "mode": "lines",
         "text": [
          "pneumonia_of_cough_breath_shortness",
          "",
          "",
          "pna_edema_with_pulmonary_for"
         ],
         "type": "scatter",
         "x": [
          0,
          0.9661944269531645,
          0.9661944269531645,
          0
         ],
         "xaxis": "x",
         "y": [
          -45,
          -45,
          -55,
          -55
         ],
         "yaxis": "y"
        },
        {
         "hoverinfo": "text",
         "marker": {
          "color": "rgb(0,116,217)"
         },
         "mode": "lines",
         "text": [
          "pneumonia_of_cough_breath_shortness",
          "",
          "",
          "interval_change_pneumothorax_sp_for"
         ],
         "type": "scatter",
         "x": [
          0,
          1.1040302960966852,
          1.1040302960966852,
          0
         ],
         "xaxis": "x",
         "y": [
          -65,
          -65,
          -75,
          -75
         ],
         "yaxis": "y"
        },
        {
         "hoverinfo": "text",
         "marker": {
          "color": "rgb(0,116,217)"
         },
         "mode": "lines",
         "text": [
          "stroke_hemorrhage_seizure_subarachnoid_and",
          "",
          "",
          "interval_change_pneumothorax_sp_for"
         ],
         "type": "scatter",
         "x": [
          0.9661944269531645,
          1.3164327649446104,
          1.3164327649446104,
          1.1040302960966852
         ],
         "xaxis": "x",
         "y": [
          -50,
          -50,
          -70,
          -70
         ],
         "yaxis": "y"
        },
        {
         "hoverinfo": "text",
         "marker": {
          "color": "rgb(0,116,217)"
         },
         "mode": "lines",
         "text": [
          "stroke_hemorrhage_seizure_subarachnoid_and",
          "",
          "",
          "pleural_effusion_effusions_for_with"
         ],
         "type": "scatter",
         "x": [
          1.3448257348567627,
          1.5135352976936316,
          1.5135352976936316,
          1.3164327649446104
         ],
         "xaxis": "x",
         "y": [
          -16.25,
          -16.25,
          -60,
          -60
         ],
         "yaxis": "y"
        },
        {
         "hoverinfo": "text",
         "marker": {
          "color": "rgb(255,65,54)"
         },
         "mode": "lines",
         "text": [
          "stroke_hemorrhage_seizure_subarachnoid_and",
          "",
          "",
          "pancreatitis_pancreatic_cancer_volume_with"
         ],
         "type": "scatter",
         "x": [
          0,
          0.523637517200711,
          0.523637517200711,
          0
         ],
         "xaxis": "x",
         "y": [
          -85,
          -85,
          -95,
          -95
         ],
         "yaxis": "y"
        },
        {
         "hoverinfo": "text",
         "marker": {
          "color": "rgb(255,65,54)"
         },
         "mode": "lines",
         "text": [
          "stroke_hemorrhage_seizure_subarachnoid_and",
          "",
          "",
          "pancreatitis_pancreatic_cancer_volume_with"
         ],
         "type": "scatter",
         "x": [
          0.523637517200711,
          0.9034733819725976,
          0.9034733819725976,
          0
         ],
         "xaxis": "x",
         "y": [
          -90,
          -90,
          -105,
          -105
         ],
         "yaxis": "y"
        },
        {
         "hoverinfo": "text",
         "marker": {
          "color": "rgb(0,116,217)"
         },
         "mode": "lines",
         "text": [
          "stroke_hemorrhage_seizure_subarachnoid_and",
          "",
          "",
          "pancreatitis_pancreatic_cancer_volume_with"
         ],
         "type": "scatter",
         "x": [
          0.9034733819725976,
          1.1310049259849213,
          1.1310049259849213,
          0
         ],
         "xaxis": "x",
         "y": [
          -97.5,
          -97.5,
          -115,
          -115
         ],
         "yaxis": "y"
        },
        {
         "hoverinfo": "text",
         "marker": {
          "color": "rgb(0,116,217)"
         },
         "mode": "lines",
         "text": [
          "placement_tube_et_ett_intubation",
          "",
          "",
          "picc_line_placement_ij_central"
         ],
         "type": "scatter",
         "x": [
          1.5135352976936316,
          1.6270796857672039,
          1.6270796857672039,
          1.1310049259849213
         ],
         "xaxis": "x",
         "y": [
          -38.125,
          -38.125,
          -106.25,
          -106.25
         ],
         "yaxis": "y"
        },
        {
         "hoverinfo": "text",
         "marker": {
          "color": "rgb(0,116,217)"
         },
         "mode": "lines",
         "text": [
          "lead_pacemaker_leads_pp_placement",
          "",
          "",
          "picc_line_placement_ij_central"
         ],
         "type": "scatter",
         "x": [
          0,
          1.0353208115686405,
          1.0353208115686405,
          0
         ],
         "xaxis": "x",
         "y": [
          -125,
          -125,
          -135,
          -135
         ],
         "yaxis": "y"
        },
        {
         "hoverinfo": "text",
         "marker": {
          "color": "rgb(0,116,217)"
         },
         "mode": "lines",
         "text": [
          "mental_altered_status_delirium_pneumonia",
          "",
          "",
          "esophageal_esophagectomy_interval_sp_invasive"
         ],
         "type": "scatter",
         "x": [
          1.0353208115686405,
          1.2497644742284548,
          1.2497644742284548,
          0
         ],
         "xaxis": "x",
         "y": [
          -130,
          -130,
          -145,
          -145
         ],
         "yaxis": "y"
        },
        {
         "hoverinfo": "text",
         "marker": {
          "color": "rgb(0,116,217)"
         },
         "mode": "lines",
         "text": [
          "ever_pneumonia_for_and_seven",
          "",
          "",
          "esophageal_esophagectomy_interval_sp_invasive"
         ],
         "type": "scatter",
         "x": [
          0,
          1.3346854895284608,
          1.3346854895284608,
          0
         ],
         "xaxis": "x",
         "y": [
          -155,
          -155,
          -165,
          -165
         ],
         "yaxis": "y"
        },
        {
         "hoverinfo": "text",
         "marker": {
          "color": "rgb(0,116,217)"
         },
         "mode": "lines",
         "text": [
          "weakness_confusion_generalized_with_word",
          "",
          "",
          "dizziness_lightheadedness_weakness_headache_intake"
         ],
         "type": "scatter",
         "x": [
          0,
          1.1749789209111106,
          1.1749789209111106,
          0
         ],
         "xaxis": "x",
         "y": [
          -175,
          -175,
          -185,
          -185
         ],
         "yaxis": "y"
        },
        {
         "hoverinfo": "text",
         "marker": {
          "color": "rgb(0,116,217)"
         },
         "mode": "lines",
         "text": [
          "weakness_confusion_generalized_with_word",
          "",
          "",
          "dizziness_lightheadedness_weakness_headache_intake"
         ],
         "type": "scatter",
         "x": [
          1.3346854895284608,
          1.512650310065161,
          1.512650310065161,
          1.1749789209111106
         ],
         "xaxis": "x",
         "y": [
          -160,
          -160,
          -180,
          -180
         ],
         "yaxis": "y"
        },
        {
         "hoverinfo": "text",
         "marker": {
          "color": "rgb(0,116,217)"
         },
         "mode": "lines",
         "text": [
          "weakness_confusion_generalized_with_word",
          "",
          "",
          "dizziness_lightheadedness_weakness_headache_intake"
         ],
         "type": "scatter",
         "x": [
          1.2497644742284548,
          1.7894080581208367,
          1.7894080581208367,
          1.512650310065161
         ],
         "xaxis": "x",
         "y": [
          -137.5,
          -137.5,
          -170,
          -170
         ],
         "yaxis": "y"
        },
        {
         "hoverinfo": "text",
         "marker": {
          "color": "rgb(0,116,217)"
         },
         "mode": "lines",
         "text": [
          "weakness_confusion_generalized_with_word",
          "",
          "",
          "dizziness_lightheadedness_weakness_headache_intake"
         ],
         "type": "scatter",
         "x": [
          1.6270796857672039,
          2.311236358113742,
          2.311236358113742,
          1.7894080581208367
         ],
         "xaxis": "x",
         "y": [
          -72.1875,
          -72.1875,
          -153.75,
          -153.75
         ],
         "yaxis": "y"
        },
        {
         "hoverinfo": "text",
         "hovertext": [
          "infiltrate_eval_wrising_as_with",
          "stroke_hemorrhage_seizure_subarachnoid_and",
          "stroke_hemorrhage_seizure_subarachnoid_and",
          "stroke_hemorrhage_seizure_subarachnoid_and",
          "stroke_hemorrhage_seizure_subarachnoid_and",
          "placement_tube_et_ett_intubation",
          "mental_altered_status_delirium_pneumonia",
          "weakness_confusion_generalized_with_word",
          "weakness_confusion_generalized_with_word",
          "weakness_confusion_generalized_with_word"
         ],
         "marker": {
          "color": "black"
         },
         "mode": "markers",
         "showlegend": false,
         "type": "scatter",
         "x": [
          1.1115214318739155,
          0.9661944269531645,
          1.3448257348567627,
          0.523637517200711,
          0.9034733819725976,
          1.5135352976936316,
          1.0353208115686405,
          1.3346854895284608,
          1.2497644742284548,
          1.6270796857672039
         ],
         "y": [
          -20,
          -50,
          -16.25,
          -90,
          -97.5,
          -38.125,
          -130,
          -160,
          -137.5,
          -72.1875
         ]
        },
        {
         "hoverinfo": "text",
         "hovertext": [
          "hypoxia_oxygen_process_and_acute",
          "interval_change_pneumothorax_sp_for",
          "pleural_effusion_effusions_for_with",
          "picc_line_placement_ij_central",
          "dizziness_lightheadedness_weakness_headache_intake",
          "dizziness_lightheadedness_weakness_headache_intake",
          "dizziness_lightheadedness_weakness_headache_intake"
         ],
         "marker": {
          "color": "black"
         },
         "mode": "markers",
         "showlegend": false,
         "type": "scatter",
         "x": [
          1.2797719916638923,
          1.1040302960966852,
          1.3164327649446104,
          1.1310049259849213,
          1.1749789209111106,
          1.512650310065161,
          1.7894080581208367
         ],
         "y": [
          -27.5,
          -70,
          -60,
          -106.25,
          -180,
          -170,
          -153.75
         ]
        }
       ],
       "layout": {
        "autosize": false,
        "height": 485,
        "hoverlabel": {
         "bgcolor": "white",
         "font": {
          "family": "Rockwell",
          "size": 16
         }
        },
        "hovermode": "closest",
        "plot_bgcolor": "#ECEFF1",
        "showlegend": false,
        "template": {
         "data": {
          "bar": [
           {
            "error_x": {
             "color": "#2a3f5f"
            },
            "error_y": {
             "color": "#2a3f5f"
            },
            "marker": {
             "line": {
              "color": "white",
              "width": 0.5
             },
             "pattern": {
              "fillmode": "overlay",
              "size": 10,
              "solidity": 0.2
             }
            },
            "type": "bar"
           }
          ],
          "barpolar": [
           {
            "marker": {
             "line": {
              "color": "white",
              "width": 0.5
             },
             "pattern": {
              "fillmode": "overlay",
              "size": 10,
              "solidity": 0.2
             }
            },
            "type": "barpolar"
           }
          ],
          "carpet": [
           {
            "aaxis": {
             "endlinecolor": "#2a3f5f",
             "gridcolor": "#C8D4E3",
             "linecolor": "#C8D4E3",
             "minorgridcolor": "#C8D4E3",
             "startlinecolor": "#2a3f5f"
            },
            "baxis": {
             "endlinecolor": "#2a3f5f",
             "gridcolor": "#C8D4E3",
             "linecolor": "#C8D4E3",
             "minorgridcolor": "#C8D4E3",
             "startlinecolor": "#2a3f5f"
            },
            "type": "carpet"
           }
          ],
          "choropleth": [
           {
            "colorbar": {
             "outlinewidth": 0,
             "ticks": ""
            },
            "type": "choropleth"
           }
          ],
          "contour": [
           {
            "colorbar": {
             "outlinewidth": 0,
             "ticks": ""
            },
            "colorscale": [
             [
              0,
              "#0d0887"
             ],
             [
              0.1111111111111111,
              "#46039f"
             ],
             [
              0.2222222222222222,
              "#7201a8"
             ],
             [
              0.3333333333333333,
              "#9c179e"
             ],
             [
              0.4444444444444444,
              "#bd3786"
             ],
             [
              0.5555555555555556,
              "#d8576b"
             ],
             [
              0.6666666666666666,
              "#ed7953"
             ],
             [
              0.7777777777777778,
              "#fb9f3a"
             ],
             [
              0.8888888888888888,
              "#fdca26"
             ],
             [
              1,
              "#f0f921"
             ]
            ],
            "type": "contour"
           }
          ],
          "contourcarpet": [
           {
            "colorbar": {
             "outlinewidth": 0,
             "ticks": ""
            },
            "type": "contourcarpet"
           }
          ],
          "heatmap": [
           {
            "colorbar": {
             "outlinewidth": 0,
             "ticks": ""
            },
            "colorscale": [
             [
              0,
              "#0d0887"
             ],
             [
              0.1111111111111111,
              "#46039f"
             ],
             [
              0.2222222222222222,
              "#7201a8"
             ],
             [
              0.3333333333333333,
              "#9c179e"
             ],
             [
              0.4444444444444444,
              "#bd3786"
             ],
             [
              0.5555555555555556,
              "#d8576b"
             ],
             [
              0.6666666666666666,
              "#ed7953"
             ],
             [
              0.7777777777777778,
              "#fb9f3a"
             ],
             [
              0.8888888888888888,
              "#fdca26"
             ],
             [
              1,
              "#f0f921"
             ]
            ],
            "type": "heatmap"
           }
          ],
          "heatmapgl": [
           {
            "colorbar": {
             "outlinewidth": 0,
             "ticks": ""
            },
            "colorscale": [
             [
              0,
              "#0d0887"
             ],
             [
              0.1111111111111111,
              "#46039f"
             ],
             [
              0.2222222222222222,
              "#7201a8"
             ],
             [
              0.3333333333333333,
              "#9c179e"
             ],
             [
              0.4444444444444444,
              "#bd3786"
             ],
             [
              0.5555555555555556,
              "#d8576b"
             ],
             [
              0.6666666666666666,
              "#ed7953"
             ],
             [
              0.7777777777777778,
              "#fb9f3a"
             ],
             [
              0.8888888888888888,
              "#fdca26"
             ],
             [
              1,
              "#f0f921"
             ]
            ],
            "type": "heatmapgl"
           }
          ],
          "histogram": [
           {
            "marker": {
             "pattern": {
              "fillmode": "overlay",
              "size": 10,
              "solidity": 0.2
             }
            },
            "type": "histogram"
           }
          ],
          "histogram2d": [
           {
            "colorbar": {
             "outlinewidth": 0,
             "ticks": ""
            },
            "colorscale": [
             [
              0,
              "#0d0887"
             ],
             [
              0.1111111111111111,
              "#46039f"
             ],
             [
              0.2222222222222222,
              "#7201a8"
             ],
             [
              0.3333333333333333,
              "#9c179e"
             ],
             [
              0.4444444444444444,
              "#bd3786"
             ],
             [
              0.5555555555555556,
              "#d8576b"
             ],
             [
              0.6666666666666666,
              "#ed7953"
             ],
             [
              0.7777777777777778,
              "#fb9f3a"
             ],
             [
              0.8888888888888888,
              "#fdca26"
             ],
             [
              1,
              "#f0f921"
             ]
            ],
            "type": "histogram2d"
           }
          ],
          "histogram2dcontour": [
           {
            "colorbar": {
             "outlinewidth": 0,
             "ticks": ""
            },
            "colorscale": [
             [
              0,
              "#0d0887"
             ],
             [
              0.1111111111111111,
              "#46039f"
             ],
             [
              0.2222222222222222,
              "#7201a8"
             ],
             [
              0.3333333333333333,
              "#9c179e"
             ],
             [
              0.4444444444444444,
              "#bd3786"
             ],
             [
              0.5555555555555556,
              "#d8576b"
             ],
             [
              0.6666666666666666,
              "#ed7953"
             ],
             [
              0.7777777777777778,
              "#fb9f3a"
             ],
             [
              0.8888888888888888,
              "#fdca26"
             ],
             [
              1,
              "#f0f921"
             ]
            ],
            "type": "histogram2dcontour"
           }
          ],
          "mesh3d": [
           {
            "colorbar": {
             "outlinewidth": 0,
             "ticks": ""
            },
            "type": "mesh3d"
           }
          ],
          "parcoords": [
           {
            "line": {
             "colorbar": {
              "outlinewidth": 0,
              "ticks": ""
             }
            },
            "type": "parcoords"
           }
          ],
          "pie": [
           {
            "automargin": true,
            "type": "pie"
           }
          ],
          "scatter": [
           {
            "fillpattern": {
             "fillmode": "overlay",
             "size": 10,
             "solidity": 0.2
            },
            "type": "scatter"
           }
          ],
          "scatter3d": [
           {
            "line": {
             "colorbar": {
              "outlinewidth": 0,
              "ticks": ""
             }
            },
            "marker": {
             "colorbar": {
              "outlinewidth": 0,
              "ticks": ""
             }
            },
            "type": "scatter3d"
           }
          ],
          "scattercarpet": [
           {
            "marker": {
             "colorbar": {
              "outlinewidth": 0,
              "ticks": ""
             }
            },
            "type": "scattercarpet"
           }
          ],
          "scattergeo": [
           {
            "marker": {
             "colorbar": {
              "outlinewidth": 0,
              "ticks": ""
             }
            },
            "type": "scattergeo"
           }
          ],
          "scattergl": [
           {
            "marker": {
             "colorbar": {
              "outlinewidth": 0,
              "ticks": ""
             }
            },
            "type": "scattergl"
           }
          ],
          "scattermapbox": [
           {
            "marker": {
             "colorbar": {
              "outlinewidth": 0,
              "ticks": ""
             }
            },
            "type": "scattermapbox"
           }
          ],
          "scatterpolar": [
           {
            "marker": {
             "colorbar": {
              "outlinewidth": 0,
              "ticks": ""
             }
            },
            "type": "scatterpolar"
           }
          ],
          "scatterpolargl": [
           {
            "marker": {
             "colorbar": {
              "outlinewidth": 0,
              "ticks": ""
             }
            },
            "type": "scatterpolargl"
           }
          ],
          "scatterternary": [
           {
            "marker": {
             "colorbar": {
              "outlinewidth": 0,
              "ticks": ""
             }
            },
            "type": "scatterternary"
           }
          ],
          "surface": [
           {
            "colorbar": {
             "outlinewidth": 0,
             "ticks": ""
            },
            "colorscale": [
             [
              0,
              "#0d0887"
             ],
             [
              0.1111111111111111,
              "#46039f"
             ],
             [
              0.2222222222222222,
              "#7201a8"
             ],
             [
              0.3333333333333333,
              "#9c179e"
             ],
             [
              0.4444444444444444,
              "#bd3786"
             ],
             [
              0.5555555555555556,
              "#d8576b"
             ],
             [
              0.6666666666666666,
              "#ed7953"
             ],
             [
              0.7777777777777778,
              "#fb9f3a"
             ],
             [
              0.8888888888888888,
              "#fdca26"
             ],
             [
              1,
              "#f0f921"
             ]
            ],
            "type": "surface"
           }
          ],
          "table": [
           {
            "cells": {
             "fill": {
              "color": "#EBF0F8"
             },
             "line": {
              "color": "white"
             }
            },
            "header": {
             "fill": {
              "color": "#C8D4E3"
             },
             "line": {
              "color": "white"
             }
            },
            "type": "table"
           }
          ]
         },
         "layout": {
          "annotationdefaults": {
           "arrowcolor": "#2a3f5f",
           "arrowhead": 0,
           "arrowwidth": 1
          },
          "autotypenumbers": "strict",
          "coloraxis": {
           "colorbar": {
            "outlinewidth": 0,
            "ticks": ""
           }
          },
          "colorscale": {
           "diverging": [
            [
             0,
             "#8e0152"
            ],
            [
             0.1,
             "#c51b7d"
            ],
            [
             0.2,
             "#de77ae"
            ],
            [
             0.3,
             "#f1b6da"
            ],
            [
             0.4,
             "#fde0ef"
            ],
            [
             0.5,
             "#f7f7f7"
            ],
            [
             0.6,
             "#e6f5d0"
            ],
            [
             0.7,
             "#b8e186"
            ],
            [
             0.8,
             "#7fbc41"
            ],
            [
             0.9,
             "#4d9221"
            ],
            [
             1,
             "#276419"
            ]
           ],
           "sequential": [
            [
             0,
             "#0d0887"
            ],
            [
             0.1111111111111111,
             "#46039f"
            ],
            [
             0.2222222222222222,
             "#7201a8"
            ],
            [
             0.3333333333333333,
             "#9c179e"
            ],
            [
             0.4444444444444444,
             "#bd3786"
            ],
            [
             0.5555555555555556,
             "#d8576b"
            ],
            [
             0.6666666666666666,
             "#ed7953"
            ],
            [
             0.7777777777777778,
             "#fb9f3a"
            ],
            [
             0.8888888888888888,
             "#fdca26"
            ],
            [
             1,
             "#f0f921"
            ]
           ],
           "sequentialminus": [
            [
             0,
             "#0d0887"
            ],
            [
             0.1111111111111111,
             "#46039f"
            ],
            [
             0.2222222222222222,
             "#7201a8"
            ],
            [
             0.3333333333333333,
             "#9c179e"
            ],
            [
             0.4444444444444444,
             "#bd3786"
            ],
            [
             0.5555555555555556,
             "#d8576b"
            ],
            [
             0.6666666666666666,
             "#ed7953"
            ],
            [
             0.7777777777777778,
             "#fb9f3a"
            ],
            [
             0.8888888888888888,
             "#fdca26"
            ],
            [
             1,
             "#f0f921"
            ]
           ]
          },
          "colorway": [
           "#636efa",
           "#EF553B",
           "#00cc96",
           "#ab63fa",
           "#FFA15A",
           "#19d3f3",
           "#FF6692",
           "#B6E880",
           "#FF97FF",
           "#FECB52"
          ],
          "font": {
           "color": "#2a3f5f"
          },
          "geo": {
           "bgcolor": "white",
           "lakecolor": "white",
           "landcolor": "white",
           "showlakes": true,
           "showland": true,
           "subunitcolor": "#C8D4E3"
          },
          "hoverlabel": {
           "align": "left"
          },
          "hovermode": "closest",
          "mapbox": {
           "style": "light"
          },
          "paper_bgcolor": "white",
          "plot_bgcolor": "white",
          "polar": {
           "angularaxis": {
            "gridcolor": "#EBF0F8",
            "linecolor": "#EBF0F8",
            "ticks": ""
           },
           "bgcolor": "white",
           "radialaxis": {
            "gridcolor": "#EBF0F8",
            "linecolor": "#EBF0F8",
            "ticks": ""
           }
          },
          "scene": {
           "xaxis": {
            "backgroundcolor": "white",
            "gridcolor": "#DFE8F3",
            "gridwidth": 2,
            "linecolor": "#EBF0F8",
            "showbackground": true,
            "ticks": "",
            "zerolinecolor": "#EBF0F8"
           },
           "yaxis": {
            "backgroundcolor": "white",
            "gridcolor": "#DFE8F3",
            "gridwidth": 2,
            "linecolor": "#EBF0F8",
            "showbackground": true,
            "ticks": "",
            "zerolinecolor": "#EBF0F8"
           },
           "zaxis": {
            "backgroundcolor": "white",
            "gridcolor": "#DFE8F3",
            "gridwidth": 2,
            "linecolor": "#EBF0F8",
            "showbackground": true,
            "ticks": "",
            "zerolinecolor": "#EBF0F8"
           }
          },
          "shapedefaults": {
           "line": {
            "color": "#2a3f5f"
           }
          },
          "ternary": {
           "aaxis": {
            "gridcolor": "#DFE8F3",
            "linecolor": "#A2B1C6",
            "ticks": ""
           },
           "baxis": {
            "gridcolor": "#DFE8F3",
            "linecolor": "#A2B1C6",
            "ticks": ""
           },
           "bgcolor": "white",
           "caxis": {
            "gridcolor": "#DFE8F3",
            "linecolor": "#A2B1C6",
            "ticks": ""
           }
          },
          "title": {
           "x": 0.05
          },
          "xaxis": {
           "automargin": true,
           "gridcolor": "#EBF0F8",
           "linecolor": "#EBF0F8",
           "ticks": "",
           "title": {
            "standoff": 15
           },
           "zerolinecolor": "#EBF0F8",
           "zerolinewidth": 2
          },
          "yaxis": {
           "automargin": true,
           "gridcolor": "#EBF0F8",
           "linecolor": "#EBF0F8",
           "ticks": "",
           "title": {
            "standoff": 15
           },
           "zerolinecolor": "#EBF0F8",
           "zerolinewidth": 2
          }
         }
        },
        "title": {
         "font": {
          "color": "Black",
          "size": 22
         },
         "text": "<b>Hierarchical Clustering</b>",
         "x": 0.5,
         "xanchor": "center",
         "yanchor": "top"
        },
        "width": 1000,
        "xaxis": {
         "mirror": "allticks",
         "rangemode": "tozero",
         "showgrid": false,
         "showline": true,
         "showticklabels": true,
         "ticks": "outside",
         "type": "linear",
         "zeroline": false
        },
        "yaxis": {
         "mirror": "allticks",
         "range": [
          -190,
          0
         ],
         "rangemode": "tozero",
         "showgrid": false,
         "showline": true,
         "showticklabels": true,
         "tickmode": "array",
         "ticks": "outside",
         "ticktext": [
          "17_infiltrate_eval_wrising",
          "10_pancreatitis_pancreatic_...",
          "5_pleural_effusion_effusions",
          "15_esophageal_esophagectomy...",
          "9_hypoxia_oxygen_process",
          "6_dyspnea_exertion_acute",
          "12_atrial_fibrillation_palp...",
          "3_pain_chest_with",
          "0_pneumonia_of_cough",
          "2_pna_edema_with",
          "1_interval_change_pneumotho...",
          "7_stroke_hemorrhage_seizure",
          "11_picc_line_placement",
          "4_placement_tube_et",
          "13_lead_pacemaker_leads",
          "14_ever_pneumonia_for",
          "8_mental_altered_status",
          "18_dizziness_lightheadednes...",
          "16_weakness_confusion_gener..."
         ],
         "tickvals": [
          -5,
          -15,
          -25,
          -35,
          -45,
          -55,
          -65,
          -75,
          -85,
          -95,
          -105,
          -115,
          -125,
          -135,
          -145,
          -155,
          -165,
          -175,
          -185
         ],
         "type": "linear",
         "zeroline": false
        }
       }
      }
     },
     "metadata": {},
     "output_type": "display_data"
    }
   ],
   "source": [
    "topic_model.visualize_hierarchy(hierarchical_topics=hierarchical_topics)"
   ]
  },
  {
   "attachments": {},
   "cell_type": "markdown",
   "metadata": {},
   "source": [
    "### Generating new topic structure"
   ]
  },
  {
   "cell_type": "code",
   "execution_count": null,
   "metadata": {},
   "outputs": [],
   "source": [
    "import pandas as pd\n",
    "\n",
    "data = {\n",
    "    'level1': [\n",
    "        '1', '1', '1', '2', '2'\n",
    "    ],\n",
    "    'level2': [\n",
    "        [17, 10, 5, 15],  # Category 1\n",
    "        [9, 6, 12, 3],  # Category 2\n",
    "        [0, 2, 1, 7],  # Category 3\n",
    "        [11, 4, 13],  # Category 4\n",
    "        [14, 8, 18, 16],  # Category 5\n",
    "    ]\n",
    "}\n",
    "\n",
    "# Count the number of numbers in level 2\n",
    "\n",
    "\n",
    "df = pd.DataFrame(columns=['level1', 'level2', 'level3'])\n",
    "\n",
    "for i, (level1, row) in enumerate(zip(data['level1'], data['level2']), start=1):\n",
    "    for num in row:\n",
    "        df = df.append({'level1': level1, 'level2': i, 'level3': num}, ignore_index=True)\n",
    "\n",
    "df['level1'] = df['level1'].astype(int)\n",
    "df['level2'] = df['level2'].astype(int)\n",
    "df['level3'] = df['level3'].astype(int)\n"
   ]
  },
  {
   "attachments": {},
   "cell_type": "markdown",
   "metadata": {},
   "source": [
    "#### Merging it with the level 2 names"
   ]
  },
  {
   "cell_type": "code",
   "execution_count": 452,
   "metadata": {},
   "outputs": [
    {
     "name": "stdout",
     "output_type": "stream",
     "text": [
      "    level1  level2  level3                      level3_names\n",
      "0        1       1      17             Infiltrate Evaluation\n",
      "1        1       1      10  Pancreatitis & Pancreatic Cancer\n",
      "2        1       1       5                  Pleural Effusion\n",
      "3        1       1      15                 Esophageal Cancer\n",
      "4        1       2       9   Hypoxia and Oxygen Requirements\n",
      "5        1       2       6                     Acute Dyspnea\n",
      "6        1       2      12               Atrial Fibrillation\n",
      "7        1       2       3            Chest & Abdominal Pain\n",
      "8        1       3       0  Pneumonia & Respiratory Symptoms\n",
      "9        1       3       2                   Pulmonary Edema\n",
      "10       1       3       1                   Interval Change\n",
      "11       1       3       7       Stroke, Hemorrhage, Seizure\n",
      "12       2       4      11               PICC Line Placement\n",
      "13       2       4       4                    Tube Placement\n",
      "14       2       4      13          Pacemaker Lead Placement\n",
      "15       2       5      14                             Fever\n",
      "16       2       5       8             Altered Mental Status\n",
      "17       2       5      18              Dizziness Assessment\n",
      "18       2       5      16              Weakness & Confusion\n"
     ]
    }
   ],
   "source": [
    "# Perform the join based on the 'level_3' column\n",
    "merged_df = pd.merge(df, topic_model_names3, on='level3')"
   ]
  },
  {
   "attachments": {},
   "cell_type": "markdown",
   "metadata": {},
   "source": [
    "#### Naming level 1 hierarchy"
   ]
  },
  {
   "cell_type": "code",
   "execution_count": 453,
   "metadata": {},
   "outputs": [],
   "source": [
    "# Define the level2 and level1 names\n",
    "level1_names = {\n",
    "    1: \"Respiratory and Thoracic Conditions\",\n",
    "    2: \"Critical Care\"\n",
    "}\n",
    "\n",
    "level2_names = {\n",
    "    1: 'Thoracic Disorders ',\n",
    "    2: 'Respiratory & Cardiovascular Health',\n",
    "    3: 'Pulmonary & Neurovascular Health',\n",
    "    4: 'Catheter & Lead Placement',\n",
    "    5: 'Neurolical Symptoms'\n",
    "}\n",
    "\n",
    "merged_df['level2_names'] = df['level2'].map(level2_names)\n",
    "merged_df['level1_names'] = df['level1'].map(level1_names)\n"
   ]
  },
  {
   "attachments": {},
   "cell_type": "markdown",
   "metadata": {},
   "source": [
    "### Saving the hierarchical structure"
   ]
  },
  {
   "cell_type": "code",
   "execution_count": 454,
   "metadata": {},
   "outputs": [],
   "source": [
    "merged_df.to_csv(\"../../Data/hierarchical_structure_topic_model.csv\")"
   ]
  },
  {
   "attachments": {},
   "cell_type": "markdown",
   "metadata": {},
   "source": [
    "## Adding topics to original dataframe"
   ]
  },
  {
   "cell_type": "code",
   "execution_count": 455,
   "metadata": {},
   "outputs": [],
   "source": [
    "df_topic_model = topic_model.get_document_info(hf_copd_df3['reason_clean'].astype(str))"
   ]
  },
  {
   "cell_type": "code",
   "execution_count": 456,
   "metadata": {},
   "outputs": [],
   "source": [
    "# Create a new column for topics\n",
    "hf_copd_df3['topic'] = df_topic_model['Topic']\n",
    "\n",
    "# Optional: Create a new column for topic probabilities\n",
    "hf_copd_df3['topic_probability'] = df_topic_model['Probability']\n",
    "\n",
    "hf_copd_df3['Representative_document'] = df_topic_model['Representative_document']\n",
    "\n",
    "hf_copd_df3['topic_name'] = df_topic_model['Name'].map(name_mapping)"
   ]
  },
  {
   "attachments": {},
   "cell_type": "markdown",
   "metadata": {},
   "source": [
    "### Saving new dataframe with topic names"
   ]
  },
  {
   "cell_type": "code",
   "execution_count": 457,
   "metadata": {},
   "outputs": [],
   "source": [
    "hf_copd_df3.to_csv(\"topic_model_dataset.csv\")"
   ]
  }
 ],
 "metadata": {
  "kernelspec": {
   "display_name": "Python 3",
   "language": "python",
   "name": "python3"
  },
  "language_info": {
   "codemirror_mode": {
    "name": "ipython",
    "version": 3
   },
   "file_extension": ".py",
   "mimetype": "text/x-python",
   "name": "python",
   "nbconvert_exporter": "python",
   "pygments_lexer": "ipython3",
   "version": "3.9.6"
  },
  "orig_nbformat": 4
 },
 "nbformat": 4,
 "nbformat_minor": 2
}
