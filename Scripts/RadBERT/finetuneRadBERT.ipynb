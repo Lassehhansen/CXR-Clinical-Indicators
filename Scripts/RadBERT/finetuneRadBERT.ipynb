{
 "cells": [
  {
   "cell_type": "code",
   "execution_count": null,
   "metadata": {},
   "outputs": [],
   "source": [
    "import pandas as pd\n",
    "import numpy as np\n",
    "from simpletransformers.classification import ClassificationModel, ClassificationArgs\n",
    "import wandb\n",
    "\n",
    "df = pd.read_csv('copd_heart_failure_df_no2.csv')\n",
    "\n",
    "#Select only columns reason_clean, label_list\n",
    "df = df[['reason_clean', 'disease_label']]\n",
    "\n",
    "#Split into train and test\n",
    "train_df = df.sample(frac=0.9, random_state=42)\n",
    "test_df = df.drop(train_df.index)\n",
    "\n",
    "train_df.columns = [\"text\", \"labels\"]\n",
    "test_df.columns = [\"text\", \"labels\"]\n",
    "\n",
    "\n",
    "\n"
   ]
  },
  {
   "cell_type": "code",
   "execution_count": null,
   "metadata": {},
   "outputs": [],
   "source": [
    "#Plot distribution of labels in test and train\n",
    "import matplotlib.pyplot as plt\n",
    "import seaborn as sns\n",
    "\n",
    "disease_count = train_df['labels'].value_counts()\n",
    "disease_count2 = test_df['labels'].value_counts()\n",
    "\n",
    "fig, ax = plt.subplots(1,2, figsize=(20, 10))\n",
    "sns.barplot(x=disease_count.index, y=disease_count.values, ax=ax[0])\n",
    "ax[0].set_xticklabels(ax[0].get_xticklabels(), rotation=90)\n",
    "ax[0].set_title('Distribution of labels in train set')\n",
    "ax[0].set_xlabel('Disease')\n",
    "ax[0].set_ylabel('Count')\n",
    "sns.barplot(x=disease_count2.index, y=disease_count2.values, ax=ax[1])\n",
    "ax[1].set_xticklabels(ax[1].get_xticklabels(), rotation=90)\n",
    "ax[1].set_title('Distribution of labels in test set')\n",
    "ax[1].set_xlabel('Disease')\n",
    "ax[1].set_ylabel('Count')\n",
    "plt.show()"
   ]
  },
  {
   "cell_type": "code",
   "execution_count": null,
   "metadata": {},
   "outputs": [],
   "source": [
    "#Setup hyperparameter sweep\n",
    "sweep_config = {\n",
    "    \"method\": \"bayes\",  \n",
    "    \"metric\": {\"name\": \"train_loss\", \"goal\": \"minimize\"},\n",
    "    \"parameters\": {\n",
    "        \"num_train_epochs\": {\"values\": [2, 3, 4]},\n",
    "        \"learning_rate\": {\"min\": 5e-5, \"max\": 4e-4},\n",
    "    },\n",
    "}\n",
    "\n",
    "sweep_id = wandb.sweep(sweep_config, project=\"Multi-Class Sweep\")\n",
    "\n",
    "\n",
    "model_args = ClassificationArgs()\n",
    "model_args.train_batch_size = 16\n",
    "model_args.eval_batch_size = 8\n",
    "model_args.overwrite_output_dir = True\n",
    "model_args.evaluate_during_training = True\n",
    "\n",
    "def train():\n",
    "    # Initialize a new wandb run\n",
    "    wandb.init()\n",
    "\n",
    "    # Create a TransformerModel\n",
    "    model = ClassificationModel(\n",
    "        \"bert\",\n",
    "        \"StanfordAIMI/RadBERT\",\n",
    "        use_cuda=True,\n",
    "        num_labels=2,\n",
    "        args=model_args,\n",
    "        sweep_config=wandb.config,\n",
    "    )\n",
    "\n",
    "    # Train the model\n",
    "    model.train_model(train_df, eval_df=test_df)\n",
    "\n",
    "    # Evaluate the model\n",
    "    model.eval_model(test_df)\n",
    "\n",
    "    # Sync wandb\n",
    "    wandb.join()\n",
    "\n",
    "wandb.agent(sweep_id, train)"
   ]
  },
  {
   "cell_type": "code",
   "execution_count": null,
   "metadata": {},
   "outputs": [],
   "source": [
    "# Evaluate the model\n",
    "result, model_outputs, wrong_predictions_train = model.eval_model(train_df)"
   ]
  },
  {
   "cell_type": "code",
   "execution_count": null,
   "metadata": {},
   "outputs": [],
   "source": []
  }
 ],
 "metadata": {
  "language_info": {
   "name": "python"
  },
  "orig_nbformat": 4
 },
 "nbformat": 4,
 "nbformat_minor": 2
}
